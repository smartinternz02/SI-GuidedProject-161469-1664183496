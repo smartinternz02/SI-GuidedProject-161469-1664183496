{
 "cells": [
  {
   "cell_type": "code",
   "execution_count": 2,
   "metadata": {},
   "outputs": [],
   "source": [
    "import numpy as np\n",
    "import pandas as pd\n",
    "import matplotlib.pyplot as plt\n",
    "import seaborn as sas"
   ]
  },
  {
   "cell_type": "code",
   "execution_count": 3,
   "metadata": {},
   "outputs": [],
   "source": [
    "data=pd.read_csv('Mall_Customers.csv')"
   ]
  },
  {
   "cell_type": "code",
   "execution_count": 4,
   "metadata": {},
   "outputs": [
    {
     "data": {
      "text/html": [
       "<div>\n",
       "<style scoped>\n",
       "    .dataframe tbody tr th:only-of-type {\n",
       "        vertical-align: middle;\n",
       "    }\n",
       "\n",
       "    .dataframe tbody tr th {\n",
       "        vertical-align: top;\n",
       "    }\n",
       "\n",
       "    .dataframe thead th {\n",
       "        text-align: right;\n",
       "    }\n",
       "</style>\n",
       "<table border=\"1\" class=\"dataframe\">\n",
       "  <thead>\n",
       "    <tr style=\"text-align: right;\">\n",
       "      <th></th>\n",
       "      <th>CustomerID</th>\n",
       "      <th>Gender</th>\n",
       "      <th>Age</th>\n",
       "      <th>Annual Income (k$)</th>\n",
       "      <th>Spending Score (1-100)</th>\n",
       "    </tr>\n",
       "  </thead>\n",
       "  <tbody>\n",
       "    <tr>\n",
       "      <th>0</th>\n",
       "      <td>1</td>\n",
       "      <td>Male</td>\n",
       "      <td>19</td>\n",
       "      <td>15</td>\n",
       "      <td>39</td>\n",
       "    </tr>\n",
       "    <tr>\n",
       "      <th>1</th>\n",
       "      <td>2</td>\n",
       "      <td>Male</td>\n",
       "      <td>21</td>\n",
       "      <td>15</td>\n",
       "      <td>81</td>\n",
       "    </tr>\n",
       "    <tr>\n",
       "      <th>2</th>\n",
       "      <td>3</td>\n",
       "      <td>Female</td>\n",
       "      <td>20</td>\n",
       "      <td>16</td>\n",
       "      <td>6</td>\n",
       "    </tr>\n",
       "    <tr>\n",
       "      <th>3</th>\n",
       "      <td>4</td>\n",
       "      <td>Female</td>\n",
       "      <td>23</td>\n",
       "      <td>16</td>\n",
       "      <td>77</td>\n",
       "    </tr>\n",
       "    <tr>\n",
       "      <th>4</th>\n",
       "      <td>5</td>\n",
       "      <td>Female</td>\n",
       "      <td>31</td>\n",
       "      <td>17</td>\n",
       "      <td>40</td>\n",
       "    </tr>\n",
       "  </tbody>\n",
       "</table>\n",
       "</div>"
      ],
      "text/plain": [
       "   CustomerID  Gender  Age  Annual Income (k$)  Spending Score (1-100)\n",
       "0           1    Male   19                  15                      39\n",
       "1           2    Male   21                  15                      81\n",
       "2           3  Female   20                  16                       6\n",
       "3           4  Female   23                  16                      77\n",
       "4           5  Female   31                  17                      40"
      ]
     },
     "execution_count": 4,
     "metadata": {},
     "output_type": "execute_result"
    }
   ],
   "source": [
    "data.head()"
   ]
  },
  {
   "cell_type": "code",
   "execution_count": 5,
   "metadata": {},
   "outputs": [
    {
     "data": {
      "text/plain": [
       "(200, 5)"
      ]
     },
     "execution_count": 5,
     "metadata": {},
     "output_type": "execute_result"
    }
   ],
   "source": [
    "data.shape"
   ]
  },
  {
   "cell_type": "code",
   "execution_count": 6,
   "metadata": {},
   "outputs": [
    {
     "data": {
      "text/plain": [
       "Female    112\n",
       "Male       88\n",
       "Name: Gender, dtype: int64"
      ]
     },
     "execution_count": 6,
     "metadata": {},
     "output_type": "execute_result"
    }
   ],
   "source": [
    "data.Gender.value_counts()"
   ]
  },
  {
   "cell_type": "code",
   "execution_count": 7,
   "metadata": {},
   "outputs": [
    {
     "name": "stdout",
     "output_type": "stream",
     "text": [
      "<class 'pandas.core.frame.DataFrame'>\n",
      "RangeIndex: 200 entries, 0 to 199\n",
      "Data columns (total 5 columns):\n",
      "CustomerID                200 non-null int64\n",
      "Gender                    200 non-null object\n",
      "Age                       200 non-null int64\n",
      "Annual Income (k$)        200 non-null int64\n",
      "Spending Score (1-100)    200 non-null int64\n",
      "dtypes: int64(4), object(1)\n",
      "memory usage: 7.9+ KB\n"
     ]
    }
   ],
   "source": [
    "data.info()"
   ]
  },
  {
   "cell_type": "code",
   "execution_count": 8,
   "metadata": {},
   "outputs": [
    {
     "data": {
      "text/plain": [
       "CustomerID                0\n",
       "Gender                    0\n",
       "Age                       0\n",
       "Annual Income (k$)        0\n",
       "Spending Score (1-100)    0\n",
       "dtype: int64"
      ]
     },
     "execution_count": 8,
     "metadata": {},
     "output_type": "execute_result"
    }
   ],
   "source": [
    "data.isnull().sum()"
   ]
  },
  {
   "cell_type": "code",
   "execution_count": 9,
   "metadata": {},
   "outputs": [],
   "source": [
    "data1=data.rename(columns={'CustomerID':'CustomerID,','Gender':'Gender','Age':'Age','Annual Income (k$)':'Annual_Income',\n",
    "                           'Spending Score (1-100)':'Spending_Score'})"
   ]
  },
  {
   "cell_type": "code",
   "execution_count": 10,
   "metadata": {},
   "outputs": [
    {
     "name": "stdout",
     "output_type": "stream",
     "text": [
      "<class 'pandas.core.frame.DataFrame'>\n",
      "RangeIndex: 200 entries, 0 to 199\n",
      "Data columns (total 5 columns):\n",
      "CustomerID,       200 non-null int64\n",
      "Gender            200 non-null object\n",
      "Age               200 non-null int64\n",
      "Annual_Income     200 non-null int64\n",
      "Spending_Score    200 non-null int64\n",
      "dtypes: int64(4), object(1)\n",
      "memory usage: 7.9+ KB\n"
     ]
    }
   ],
   "source": [
    "data1.info()"
   ]
  },
  {
   "cell_type": "code",
   "execution_count": 11,
   "metadata": {},
   "outputs": [
    {
     "data": {
      "text/html": [
       "<div>\n",
       "<style scoped>\n",
       "    .dataframe tbody tr th:only-of-type {\n",
       "        vertical-align: middle;\n",
       "    }\n",
       "\n",
       "    .dataframe tbody tr th {\n",
       "        vertical-align: top;\n",
       "    }\n",
       "\n",
       "    .dataframe thead th {\n",
       "        text-align: right;\n",
       "    }\n",
       "</style>\n",
       "<table border=\"1\" class=\"dataframe\">\n",
       "  <thead>\n",
       "    <tr style=\"text-align: right;\">\n",
       "      <th></th>\n",
       "      <th>CustomerID,</th>\n",
       "      <th>Gender</th>\n",
       "      <th>Age</th>\n",
       "      <th>Annual_Income</th>\n",
       "      <th>Spending_Score</th>\n",
       "    </tr>\n",
       "  </thead>\n",
       "  <tbody>\n",
       "    <tr>\n",
       "      <th>0</th>\n",
       "      <td>1</td>\n",
       "      <td>Male</td>\n",
       "      <td>19</td>\n",
       "      <td>15</td>\n",
       "      <td>39</td>\n",
       "    </tr>\n",
       "    <tr>\n",
       "      <th>1</th>\n",
       "      <td>2</td>\n",
       "      <td>Male</td>\n",
       "      <td>21</td>\n",
       "      <td>15</td>\n",
       "      <td>81</td>\n",
       "    </tr>\n",
       "    <tr>\n",
       "      <th>2</th>\n",
       "      <td>3</td>\n",
       "      <td>Female</td>\n",
       "      <td>20</td>\n",
       "      <td>16</td>\n",
       "      <td>6</td>\n",
       "    </tr>\n",
       "    <tr>\n",
       "      <th>3</th>\n",
       "      <td>4</td>\n",
       "      <td>Female</td>\n",
       "      <td>23</td>\n",
       "      <td>16</td>\n",
       "      <td>77</td>\n",
       "    </tr>\n",
       "    <tr>\n",
       "      <th>4</th>\n",
       "      <td>5</td>\n",
       "      <td>Female</td>\n",
       "      <td>31</td>\n",
       "      <td>17</td>\n",
       "      <td>40</td>\n",
       "    </tr>\n",
       "  </tbody>\n",
       "</table>\n",
       "</div>"
      ],
      "text/plain": [
       "   CustomerID,  Gender  Age  Annual_Income  Spending_Score\n",
       "0            1    Male   19             15              39\n",
       "1            2    Male   21             15              81\n",
       "2            3  Female   20             16               6\n",
       "3            4  Female   23             16              77\n",
       "4            5  Female   31             17              40"
      ]
     },
     "execution_count": 11,
     "metadata": {},
     "output_type": "execute_result"
    }
   ],
   "source": [
    "data1.head()"
   ]
  },
  {
   "cell_type": "code",
   "execution_count": 12,
   "metadata": {},
   "outputs": [
    {
     "data": {
      "text/plain": [
       "Female    112\n",
       "Male       88\n",
       "Name: Gender, dtype: int64"
      ]
     },
     "execution_count": 12,
     "metadata": {},
     "output_type": "execute_result"
    }
   ],
   "source": [
    "data1.Gender.value_counts()"
   ]
  },
  {
   "cell_type": "code",
   "execution_count": 13,
   "metadata": {},
   "outputs": [
    {
     "data": {
      "text/plain": [
       "<matplotlib.axes._subplots.AxesSubplot at 0x22d86ed54a8>"
      ]
     },
     "execution_count": 13,
     "metadata": {},
     "output_type": "execute_result"
    },
    {
     "data": {
      "image/png": "[encoded data removed]",
      "text/plain": [
       "<Figure size 432x288 with 1 Axes>"
      ]
     },
     "metadata": {
      "needs_background": "light"
     },
     "output_type": "display_data"
    }
   ],
   "source": [
    "sas.distplot(data1.Spending_Score)"
   ]
  },
  {
   "cell_type": "code",
   "execution_count": 14,
   "metadata": {},
   "outputs": [
    {
     "data": {
      "text/plain": [
       "array([[<matplotlib.axes._subplots.AxesSubplot object at 0x0000022D86F787B8>,\n",
       "        <matplotlib.axes._subplots.AxesSubplot object at 0x0000022D882CBEF0>],\n",
       "       [<matplotlib.axes._subplots.AxesSubplot object at 0x0000022D88307400>,\n",
       "        <matplotlib.axes._subplots.AxesSubplot object at 0x0000022D883369B0>]],\n",
       "      dtype=object)"
      ]
     },
     "execution_count": 14,
     "metadata": {},
     "output_type": "execute_result"
    },
    {
     "data": {
      "image/png": "[encoded data removed]",
      "text/plain": [
       "<Figure size 576x576 with 4 Axes>"
      ]
     },
     "metadata": {
      "needs_background": "light"
     },
     "output_type": "display_data"
    }
   ],
   "source": [
    "data1.hist(figsize=(8,8))"
   ]
  },
  {
   "cell_type": "code",
   "execution_count": 15,
   "metadata": {},
   "outputs": [
    {
     "data": {
      "text/plain": [
       "<matplotlib.axes._subplots.AxesSubplot at 0x22d88607b70>"
      ]
     },
     "execution_count": 15,
     "metadata": {},
     "output_type": "execute_result"
    },
    {
     "data": {
      "image/png": "[encoded data removed]",
      "text/plain": [
       "<Figure size 432x288 with 1 Axes>"
      ]
     },
     "metadata": {
      "needs_background": "light"
     },
     "output_type": "display_data"
    }
   ],
   "source": [
    "sas.lineplot(data1['Age'],data1['Spending_Score'])"
   ]
  },
  {
   "cell_type": "code",
   "execution_count": 16,
   "metadata": {},
   "outputs": [
    {
     "data": {
      "text/plain": [
       "Text(0.5, 1.0, 'Age/Spending_Score')"
      ]
     },
     "execution_count": 16,
     "metadata": {},
     "output_type": "execute_result"
    },
    {
     "data": {
      "image/png": "[encoded data removed]",
      "text/plain": [
       "<Figure size 432x288 with 1 Axes>"
      ]
     },
     "metadata": {
      "needs_background": "light"
     },
     "output_type": "display_data"
    }
   ],
   "source": [
    "sas.scatterplot(x=data1.Age,y=data1.Spending_Score)\n",
    "plt.title('Age/Spending_Score')"
   ]
  },
  {
   "cell_type": "code",
   "execution_count": 17,
   "metadata": {},
   "outputs": [
    {
     "data": {
      "text/plain": [
       "<seaborn.axisgrid.PairGrid at 0x22d8849cc88>"
      ]
     },
     "execution_count": 17,
     "metadata": {},
     "output_type": "execute_result"
    },
    {
     "data": {
      "image/png": "[encoded data removed]",
      "text/plain": [
       "<Figure size 720x720 with 20 Axes>"
      ]
     },
     "metadata": {
      "needs_background": "light"
     },
     "output_type": "display_data"
    }
   ],
   "source": [
    "sas.pairplot(data1)"
   ]
  },
  {
   "cell_type": "code",
   "execution_count": 18,
   "metadata": {},
   "outputs": [
    {
     "data": {
      "text/html": [
       "<div>\n",
       "<style scoped>\n",
       "    .dataframe tbody tr th:only-of-type {\n",
       "        vertical-align: middle;\n",
       "    }\n",
       "\n",
       "    .dataframe tbody tr th {\n",
       "        vertical-align: top;\n",
       "    }\n",
       "\n",
       "    .dataframe thead th {\n",
       "        text-align: right;\n",
       "    }\n",
       "</style>\n",
       "<table border=\"1\" class=\"dataframe\">\n",
       "  <thead>\n",
       "    <tr style=\"text-align: right;\">\n",
       "      <th></th>\n",
       "      <th>CustomerID,</th>\n",
       "      <th>Age</th>\n",
       "      <th>Annual_Income</th>\n",
       "      <th>Spending_Score</th>\n",
       "    </tr>\n",
       "  </thead>\n",
       "  <tbody>\n",
       "    <tr>\n",
       "      <th>CustomerID,</th>\n",
       "      <td>1.000000</td>\n",
       "      <td>-0.026763</td>\n",
       "      <td>0.977548</td>\n",
       "      <td>0.013835</td>\n",
       "    </tr>\n",
       "    <tr>\n",
       "      <th>Age</th>\n",
       "      <td>-0.026763</td>\n",
       "      <td>1.000000</td>\n",
       "      <td>-0.012398</td>\n",
       "      <td>-0.327227</td>\n",
       "    </tr>\n",
       "    <tr>\n",
       "      <th>Annual_Income</th>\n",
       "      <td>0.977548</td>\n",
       "      <td>-0.012398</td>\n",
       "      <td>1.000000</td>\n",
       "      <td>0.009903</td>\n",
       "    </tr>\n",
       "    <tr>\n",
       "      <th>Spending_Score</th>\n",
       "      <td>0.013835</td>\n",
       "      <td>-0.327227</td>\n",
       "      <td>0.009903</td>\n",
       "      <td>1.000000</td>\n",
       "    </tr>\n",
       "  </tbody>\n",
       "</table>\n",
       "</div>"
      ],
      "text/plain": [
       "                CustomerID,       Age  Annual_Income  Spending_Score\n",
       "CustomerID,        1.000000 -0.026763       0.977548        0.013835\n",
       "Age               -0.026763  1.000000      -0.012398       -0.327227\n",
       "Annual_Income      0.977548 -0.012398       1.000000        0.009903\n",
       "Spending_Score     0.013835 -0.327227       0.009903        1.000000"
      ]
     },
     "execution_count": 18,
     "metadata": {},
     "output_type": "execute_result"
    }
   ],
   "source": [
    "data1.corr()"
   ]
  },
  {
   "cell_type": "code",
   "execution_count": 19,
   "metadata": {},
   "outputs": [
    {
     "data": {
      "text/plain": [
       "<matplotlib.axes._subplots.AxesSubplot at 0x22d88e4ab00>"
      ]
     },
     "execution_count": 19,
     "metadata": {},
     "output_type": "execute_result"
    },
    {
     "data": {
      "image/png": "[encoded data removed]",
      "text/plain": [
       "<Figure size 432x288 with 2 Axes>"
      ]
     },
     "metadata": {
      "needs_background": "light"
     },
     "output_type": "display_data"
    }
   ],
   "source": [
    "hm=data1.corr()\n",
    "sas.heatmap(hm)"
   ]
  },
  {
   "cell_type": "code",
   "execution_count": 20,
   "metadata": {},
   "outputs": [
    {
     "data": {
      "text/html": [
       "<div>\n",
       "<style scoped>\n",
       "    .dataframe tbody tr th:only-of-type {\n",
       "        vertical-align: middle;\n",
       "    }\n",
       "\n",
       "    .dataframe tbody tr th {\n",
       "        vertical-align: top;\n",
       "    }\n",
       "\n",
       "    .dataframe thead th {\n",
       "        text-align: right;\n",
       "    }\n",
       "</style>\n",
       "<table border=\"1\" class=\"dataframe\">\n",
       "  <thead>\n",
       "    <tr style=\"text-align: right;\">\n",
       "      <th></th>\n",
       "      <th>CustomerID,</th>\n",
       "      <th>Age</th>\n",
       "      <th>Annual_Income</th>\n",
       "      <th>Spending_Score</th>\n",
       "    </tr>\n",
       "  </thead>\n",
       "  <tbody>\n",
       "    <tr>\n",
       "      <th>count</th>\n",
       "      <td>200.000000</td>\n",
       "      <td>200.000000</td>\n",
       "      <td>200.000000</td>\n",
       "      <td>200.000000</td>\n",
       "    </tr>\n",
       "    <tr>\n",
       "      <th>mean</th>\n",
       "      <td>100.500000</td>\n",
       "      <td>38.850000</td>\n",
       "      <td>60.560000</td>\n",
       "      <td>50.200000</td>\n",
       "    </tr>\n",
       "    <tr>\n",
       "      <th>std</th>\n",
       "      <td>57.879185</td>\n",
       "      <td>13.969007</td>\n",
       "      <td>26.264721</td>\n",
       "      <td>25.823522</td>\n",
       "    </tr>\n",
       "    <tr>\n",
       "      <th>min</th>\n",
       "      <td>1.000000</td>\n",
       "      <td>18.000000</td>\n",
       "      <td>15.000000</td>\n",
       "      <td>1.000000</td>\n",
       "    </tr>\n",
       "    <tr>\n",
       "      <th>25%</th>\n",
       "      <td>50.750000</td>\n",
       "      <td>28.750000</td>\n",
       "      <td>41.500000</td>\n",
       "      <td>34.750000</td>\n",
       "    </tr>\n",
       "    <tr>\n",
       "      <th>50%</th>\n",
       "      <td>100.500000</td>\n",
       "      <td>36.000000</td>\n",
       "      <td>61.500000</td>\n",
       "      <td>50.000000</td>\n",
       "    </tr>\n",
       "    <tr>\n",
       "      <th>75%</th>\n",
       "      <td>150.250000</td>\n",
       "      <td>49.000000</td>\n",
       "      <td>78.000000</td>\n",
       "      <td>73.000000</td>\n",
       "    </tr>\n",
       "    <tr>\n",
       "      <th>max</th>\n",
       "      <td>200.000000</td>\n",
       "      <td>70.000000</td>\n",
       "      <td>137.000000</td>\n",
       "      <td>99.000000</td>\n",
       "    </tr>\n",
       "  </tbody>\n",
       "</table>\n",
       "</div>"
      ],
      "text/plain": [
       "       CustomerID,         Age  Annual_Income  Spending_Score\n",
       "count   200.000000  200.000000     200.000000      200.000000\n",
       "mean    100.500000   38.850000      60.560000       50.200000\n",
       "std      57.879185   13.969007      26.264721       25.823522\n",
       "min       1.000000   18.000000      15.000000        1.000000\n",
       "25%      50.750000   28.750000      41.500000       34.750000\n",
       "50%     100.500000   36.000000      61.500000       50.000000\n",
       "75%     150.250000   49.000000      78.000000       73.000000\n",
       "max     200.000000   70.000000     137.000000       99.000000"
      ]
     },
     "execution_count": 20,
     "metadata": {},
     "output_type": "execute_result"
    }
   ],
   "source": [
    "data1.describe()"
   ]
  },
  {
   "cell_type": "code",
   "execution_count": 21,
   "metadata": {},
   "outputs": [
    {
     "data": {
      "text/plain": [
       "CustomerID,       0\n",
       "Gender            0\n",
       "Age               0\n",
       "Annual_Income     0\n",
       "Spending_Score    0\n",
       "dtype: int64"
      ]
     },
     "execution_count": 21,
     "metadata": {},
     "output_type": "execute_result"
    }
   ],
   "source": [
    "data1.isnull().sum()"
   ]
  },
  {
   "cell_type": "code",
   "execution_count": 22,
   "metadata": {},
   "outputs": [
    {
     "data": {
      "text/plain": [
       "(200, 5)"
      ]
     },
     "execution_count": 22,
     "metadata": {},
     "output_type": "execute_result"
    }
   ],
   "source": [
    "data1.shape"
   ]
  },
  {
   "cell_type": "code",
   "execution_count": 23,
   "metadata": {},
   "outputs": [
    {
     "data": {
      "text/plain": [
       "<matplotlib.axes._subplots.AxesSubplot at 0x22d86f75908>"
      ]
     },
     "execution_count": 23,
     "metadata": {},
     "output_type": "execute_result"
    },
    {
     "data": {
      "image/png": "[encoded data removed]",
      "text/plain": [
       "<Figure size 432x288 with 1 Axes>"
      ]
     },
     "metadata": {
      "needs_background": "light"
     },
     "output_type": "display_data"
    }
   ],
   "source": [
    "sas.boxplot(data1.Annual_Income)"
   ]
  },
  {
   "cell_type": "code",
   "execution_count": 24,
   "metadata": {},
   "outputs": [
    {
     "data": {
      "text/plain": [
       "126.1099999999999"
      ]
     },
     "execution_count": 24,
     "metadata": {},
     "output_type": "execute_result"
    }
   ],
   "source": [
    "perc99=data1.Annual_Income.quantile(0.99)\n",
    "perc99"
   ]
  },
  {
   "cell_type": "code",
   "execution_count": 25,
   "metadata": {},
   "outputs": [
    {
     "data": {
      "text/plain": [
       "Female    112\n",
       "Male       88\n",
       "Name: Gender, dtype: int64"
      ]
     },
     "execution_count": 25,
     "metadata": {},
     "output_type": "execute_result"
    }
   ],
   "source": [
    "data1.Gender.value_counts()"
   ]
  },
  {
   "cell_type": "code",
   "execution_count": 26,
   "metadata": {},
   "outputs": [
    {
     "data": {
      "text/plain": [
       "<matplotlib.axes._subplots.AxesSubplot at 0x22d892796a0>"
      ]
     },
     "execution_count": 26,
     "metadata": {},
     "output_type": "execute_result"
    },
    {
     "data": {
      "image/png": "[encoded data removed]",
      "text/plain": [
       "<Figure size 432x288 with 1 Axes>"
      ]
     },
     "metadata": {
      "needs_background": "light"
     },
     "output_type": "display_data"
    }
   ],
   "source": [
    "data1=data1[data1.Annual_Income<=perc99]\n",
    "sas.boxplot(data1.Annual_Income)"
   ]
  },
  {
   "cell_type": "code",
   "execution_count": 27,
   "metadata": {},
   "outputs": [
    {
     "data": {
      "text/html": [
       "<div>\n",
       "<style scoped>\n",
       "    .dataframe tbody tr th:only-of-type {\n",
       "        vertical-align: middle;\n",
       "    }\n",
       "\n",
       "    .dataframe tbody tr th {\n",
       "        vertical-align: top;\n",
       "    }\n",
       "\n",
       "    .dataframe thead th {\n",
       "        text-align: right;\n",
       "    }\n",
       "</style>\n",
       "<table border=\"1\" class=\"dataframe\">\n",
       "  <thead>\n",
       "    <tr style=\"text-align: right;\">\n",
       "      <th></th>\n",
       "      <th>CustomerID,</th>\n",
       "      <th>Gender</th>\n",
       "      <th>Age</th>\n",
       "      <th>Annual_Income</th>\n",
       "      <th>Spending_Score</th>\n",
       "    </tr>\n",
       "  </thead>\n",
       "  <tbody>\n",
       "    <tr>\n",
       "      <th>0</th>\n",
       "      <td>1</td>\n",
       "      <td>Male</td>\n",
       "      <td>19</td>\n",
       "      <td>15</td>\n",
       "      <td>39</td>\n",
       "    </tr>\n",
       "    <tr>\n",
       "      <th>1</th>\n",
       "      <td>2</td>\n",
       "      <td>Male</td>\n",
       "      <td>21</td>\n",
       "      <td>15</td>\n",
       "      <td>81</td>\n",
       "    </tr>\n",
       "    <tr>\n",
       "      <th>2</th>\n",
       "      <td>3</td>\n",
       "      <td>Female</td>\n",
       "      <td>20</td>\n",
       "      <td>16</td>\n",
       "      <td>6</td>\n",
       "    </tr>\n",
       "    <tr>\n",
       "      <th>3</th>\n",
       "      <td>4</td>\n",
       "      <td>Female</td>\n",
       "      <td>23</td>\n",
       "      <td>16</td>\n",
       "      <td>77</td>\n",
       "    </tr>\n",
       "    <tr>\n",
       "      <th>4</th>\n",
       "      <td>5</td>\n",
       "      <td>Female</td>\n",
       "      <td>31</td>\n",
       "      <td>17</td>\n",
       "      <td>40</td>\n",
       "    </tr>\n",
       "  </tbody>\n",
       "</table>\n",
       "</div>"
      ],
      "text/plain": [
       "   CustomerID,  Gender  Age  Annual_Income  Spending_Score\n",
       "0            1    Male   19             15              39\n",
       "1            2    Male   21             15              81\n",
       "2            3  Female   20             16               6\n",
       "3            4  Female   23             16              77\n",
       "4            5  Female   31             17              40"
      ]
     },
     "execution_count": 27,
     "metadata": {},
     "output_type": "execute_result"
    }
   ],
   "source": [
    "data1.head()"
   ]
  },
  {
   "cell_type": "code",
   "execution_count": 28,
   "metadata": {},
   "outputs": [
    {
     "data": {
      "text/plain": [
       "42    8\n",
       "55    7\n",
       "73    6\n",
       "46    6\n",
       "75    5\n",
       "48    5\n",
       "35    5\n",
       "59    5\n",
       "50    5\n",
       "52    5\n",
       "14    4\n",
       "47    4\n",
       "5     4\n",
       "41    4\n",
       "40    4\n",
       "56    4\n",
       "60    3\n",
       "43    3\n",
       "49    3\n",
       "51    3\n",
       "77    3\n",
       "88    3\n",
       "92    3\n",
       "13    3\n",
       "15    3\n",
       "17    3\n",
       "54    3\n",
       "4     2\n",
       "6     2\n",
       "10    2\n",
       "     ..\n",
       "61    2\n",
       "58    2\n",
       "9     1\n",
       "85    1\n",
       "8     1\n",
       "7     1\n",
       "11    1\n",
       "12    1\n",
       "94    1\n",
       "89    1\n",
       "3     1\n",
       "53    1\n",
       "27    1\n",
       "22    1\n",
       "68    1\n",
       "98    1\n",
       "63    1\n",
       "65    1\n",
       "66    1\n",
       "45    1\n",
       "44    1\n",
       "71    1\n",
       "23    1\n",
       "78    1\n",
       "34    1\n",
       "31    1\n",
       "82    1\n",
       "83    1\n",
       "24    1\n",
       "99    1\n",
       "Name: Spending_Score, Length: 83, dtype: int64"
      ]
     },
     "execution_count": 28,
     "metadata": {},
     "output_type": "execute_result"
    }
   ],
   "source": [
    "data1.Spending_Score.value_counts()"
   ]
  },
  {
   "cell_type": "code",
   "execution_count": 29,
   "metadata": {},
   "outputs": [
    {
     "data": {
      "text/plain": [
       "(198, 5)"
      ]
     },
     "execution_count": 29,
     "metadata": {},
     "output_type": "execute_result"
    }
   ],
   "source": [
    "data1.shape"
   ]
  },
  {
   "cell_type": "code",
   "execution_count": 30,
   "metadata": {},
   "outputs": [
    {
     "data": {
      "text/plain": [
       "Index(['CustomerID,', 'Gender', 'Age', 'Annual_Income', 'Spending_Score'], dtype='object')"
      ]
     },
     "execution_count": 30,
     "metadata": {},
     "output_type": "execute_result"
    }
   ],
   "source": [
    "data1.columns"
   ]
  },
  {
   "cell_type": "code",
   "execution_count": 31,
   "metadata": {},
   "outputs": [
    {
     "data": {
      "text/plain": [
       "Female    112\n",
       "Male       86\n",
       "Name: Gender, dtype: int64"
      ]
     },
     "execution_count": 31,
     "metadata": {},
     "output_type": "execute_result"
    }
   ],
   "source": [
    "data1.Gender.value_counts()"
   ]
  },
  {
   "cell_type": "code",
   "execution_count": 32,
   "metadata": {},
   "outputs": [],
   "source": [
    "from sklearn.preprocessing import LabelEncoder\n",
    "le=LabelEncoder()"
   ]
  },
  {
   "cell_type": "code",
   "execution_count": 33,
   "metadata": {},
   "outputs": [
    {
     "name": "stderr",
     "output_type": "stream",
     "text": [
      "C:\\Users\\91859\\Anaconda3\\lib\\site-packages\\pandas\\core\\generic.py:5096: SettingWithCopyWarning: \n",
      "A value is trying to be set on a copy of a slice from a DataFrame.\n",
      "Try using .loc[row_indexer,col_indexer] = value instead\n",
      "\n",
      "See the caveats in the documentation: http://pandas.pydata.org/pandas-docs/stable/indexing.html#indexing-view-versus-copy\n",
      "  self[name] = value\n"
     ]
    }
   ],
   "source": [
    "data1.Gender=(le.fit_transform(data1.Gender))"
   ]
  },
  {
   "cell_type": "code",
   "execution_count": 34,
   "metadata": {},
   "outputs": [
    {
     "data": {
      "text/html": [
       "<div>\n",
       "<style scoped>\n",
       "    .dataframe tbody tr th:only-of-type {\n",
       "        vertical-align: middle;\n",
       "    }\n",
       "\n",
       "    .dataframe tbody tr th {\n",
       "        vertical-align: top;\n",
       "    }\n",
       "\n",
       "    .dataframe thead th {\n",
       "        text-align: right;\n",
       "    }\n",
       "</style>\n",
       "<table border=\"1\" class=\"dataframe\">\n",
       "  <thead>\n",
       "    <tr style=\"text-align: right;\">\n",
       "      <th></th>\n",
       "      <th>CustomerID,</th>\n",
       "      <th>Gender</th>\n",
       "      <th>Age</th>\n",
       "      <th>Annual_Income</th>\n",
       "      <th>Spending_Score</th>\n",
       "    </tr>\n",
       "  </thead>\n",
       "  <tbody>\n",
       "    <tr>\n",
       "      <th>0</th>\n",
       "      <td>1</td>\n",
       "      <td>1</td>\n",
       "      <td>19</td>\n",
       "      <td>15</td>\n",
       "      <td>39</td>\n",
       "    </tr>\n",
       "    <tr>\n",
       "      <th>1</th>\n",
       "      <td>2</td>\n",
       "      <td>1</td>\n",
       "      <td>21</td>\n",
       "      <td>15</td>\n",
       "      <td>81</td>\n",
       "    </tr>\n",
       "    <tr>\n",
       "      <th>2</th>\n",
       "      <td>3</td>\n",
       "      <td>0</td>\n",
       "      <td>20</td>\n",
       "      <td>16</td>\n",
       "      <td>6</td>\n",
       "    </tr>\n",
       "    <tr>\n",
       "      <th>3</th>\n",
       "      <td>4</td>\n",
       "      <td>0</td>\n",
       "      <td>23</td>\n",
       "      <td>16</td>\n",
       "      <td>77</td>\n",
       "    </tr>\n",
       "    <tr>\n",
       "      <th>4</th>\n",
       "      <td>5</td>\n",
       "      <td>0</td>\n",
       "      <td>31</td>\n",
       "      <td>17</td>\n",
       "      <td>40</td>\n",
       "    </tr>\n",
       "  </tbody>\n",
       "</table>\n",
       "</div>"
      ],
      "text/plain": [
       "   CustomerID,  Gender  Age  Annual_Income  Spending_Score\n",
       "0            1       1   19             15              39\n",
       "1            2       1   21             15              81\n",
       "2            3       0   20             16               6\n",
       "3            4       0   23             16              77\n",
       "4            5       0   31             17              40"
      ]
     },
     "execution_count": 34,
     "metadata": {},
     "output_type": "execute_result"
    }
   ],
   "source": [
    "data1.head()"
   ]
  },
  {
   "cell_type": "code",
   "execution_count": 35,
   "metadata": {},
   "outputs": [
    {
     "data": {
      "text/plain": [
       "42    8\n",
       "55    7\n",
       "73    6\n",
       "46    6\n",
       "75    5\n",
       "48    5\n",
       "35    5\n",
       "59    5\n",
       "50    5\n",
       "52    5\n",
       "14    4\n",
       "47    4\n",
       "5     4\n",
       "41    4\n",
       "40    4\n",
       "56    4\n",
       "60    3\n",
       "43    3\n",
       "49    3\n",
       "51    3\n",
       "77    3\n",
       "88    3\n",
       "92    3\n",
       "13    3\n",
       "15    3\n",
       "17    3\n",
       "54    3\n",
       "4     2\n",
       "6     2\n",
       "10    2\n",
       "     ..\n",
       "61    2\n",
       "58    2\n",
       "9     1\n",
       "85    1\n",
       "8     1\n",
       "7     1\n",
       "11    1\n",
       "12    1\n",
       "94    1\n",
       "89    1\n",
       "3     1\n",
       "53    1\n",
       "27    1\n",
       "22    1\n",
       "68    1\n",
       "98    1\n",
       "63    1\n",
       "65    1\n",
       "66    1\n",
       "45    1\n",
       "44    1\n",
       "71    1\n",
       "23    1\n",
       "78    1\n",
       "34    1\n",
       "31    1\n",
       "82    1\n",
       "83    1\n",
       "24    1\n",
       "99    1\n",
       "Name: Spending_Score, Length: 83, dtype: int64"
      ]
     },
     "execution_count": 35,
     "metadata": {},
     "output_type": "execute_result"
    }
   ],
   "source": [
    "data1['Spending_Score'].value_counts()"
   ]
  },
  {
   "cell_type": "code",
   "execution_count": 36,
   "metadata": {},
   "outputs": [],
   "source": [
    "x=data1.drop('Spending_Score',axis=1)"
   ]
  },
  {
   "cell_type": "code",
   "execution_count": 37,
   "metadata": {},
   "outputs": [],
   "source": [
    "y=data1['Spending_Score']"
   ]
  },
  {
   "cell_type": "code",
   "execution_count": 38,
   "metadata": {},
   "outputs": [],
   "source": [
    "from sklearn.preprocessing import StandardScaler"
   ]
  },
  {
   "cell_type": "code",
   "execution_count": 39,
   "metadata": {},
   "outputs": [],
   "source": [
    "sc=StandardScaler()"
   ]
  },
  {
   "cell_type": "code",
   "execution_count": 40,
   "metadata": {},
   "outputs": [],
   "source": [
    "x=sc.fit_transform(x)"
   ]
  },
  {
   "cell_type": "code",
   "execution_count": 41,
   "metadata": {},
   "outputs": [
    {
     "data": {
      "text/plain": [
       "array([[-1.72332506,  1.1411948 , -1.42541358, -1.77917141],\n",
       "       [-1.70582937,  1.1411948 , -1.2823665 , -1.77917141],\n",
       "       [-1.68833368, -0.87627458, -1.35389004, -1.73944701],\n",
       "       [-1.670838  , -0.87627458, -1.13931942, -1.73944701],\n",
       "       [-1.65334231, -0.87627458, -0.5671311 , -1.69972262],\n",
       "       [-1.63584663, -0.87627458, -1.21084296, -1.69972262],\n",
       "       [-1.61835094, -0.87627458, -0.28103694, -1.65999822],\n",
       "       [-1.60085525, -0.87627458, -1.13931942, -1.65999822],\n",
       "       [-1.58335957,  1.1411948 ,  1.79314572, -1.62027383],\n",
       "       [-1.56586388, -0.87627458, -0.63865464, -1.62027383],\n",
       "       [-1.5483682 ,  1.1411948 ,  2.00771635, -1.62027383],\n",
       "       [-1.53087251, -0.87627458, -0.28103694, -1.62027383],\n",
       "       [-1.51337683, -0.87627458,  1.36400448, -1.58054943],\n",
       "       [-1.49588114, -0.87627458, -1.06779588, -1.58054943],\n",
       "       [-1.47838545,  1.1411948 , -0.13798986, -1.58054943],\n",
       "       [-1.46088977,  1.1411948 , -1.21084296, -1.58054943],\n",
       "       [-1.44339408, -0.87627458, -0.28103694, -1.54082504],\n",
       "       [-1.4258984 ,  1.1411948 , -1.35389004, -1.54082504],\n",
       "       [-1.40840271,  1.1411948 ,  0.93486324, -1.46137625],\n",
       "       [-1.39090702, -0.87627458, -0.28103694, -1.46137625],\n",
       "       [-1.37341134,  1.1411948 , -0.28103694, -1.42165185],\n",
       "       [-1.35591565,  1.1411948 , -0.99627234, -1.42165185],\n",
       "       [-1.33841997, -0.87627458,  0.505722  , -1.38192745],\n",
       "       [-1.32092428,  1.1411948 , -0.5671311 , -1.38192745],\n",
       "       [-1.3034286 , -0.87627458,  1.07791032, -1.26275427],\n",
       "       [-1.28593291,  1.1411948 , -0.71017818, -1.26275427],\n",
       "       [-1.26843722, -0.87627458,  0.43419846, -1.26275427],\n",
       "       [-1.25094154,  1.1411948 , -0.28103694, -1.26275427],\n",
       "       [-1.23344585, -0.87627458,  0.07658076, -1.22302987],\n",
       "       [-1.21595017, -0.87627458, -1.13931942, -1.22302987],\n",
       "       [-1.19845448,  1.1411948 ,  1.50705156, -1.18330548],\n",
       "       [-1.18095879, -0.87627458, -1.2823665 , -1.18330548],\n",
       "       [-1.16346311,  1.1411948 ,  1.00638678, -1.06413229],\n",
       "       [-1.14596742,  1.1411948 , -1.49693712, -1.06413229],\n",
       "       [-1.12847174, -0.87627458,  0.72029262, -1.06413229],\n",
       "       [-1.11097605, -0.87627458, -1.2823665 , -1.06413229],\n",
       "       [-1.09348037, -0.87627458,  0.21962784, -1.0244079 ],\n",
       "       [-1.07598468, -0.87627458, -0.63865464, -1.0244079 ],\n",
       "       [-1.05848899, -0.87627458, -0.2095134 , -0.90523471],\n",
       "       [-1.04099331, -0.87627458, -1.35389004, -0.90523471],\n",
       "       [-1.02349762, -0.87627458,  1.86466927, -0.86551031],\n",
       "       [-1.00600194,  1.1411948 , -1.06779588, -0.86551031],\n",
       "       [-0.98850625,  1.1411948 ,  0.64876908, -0.82578592],\n",
       "       [-0.97101056, -0.87627458, -0.5671311 , -0.82578592],\n",
       "       [-0.95351488, -0.87627458,  0.72029262, -0.82578592],\n",
       "       [-0.93601919, -0.87627458, -1.06779588, -0.82578592],\n",
       "       [-0.91852351, -0.87627458,  0.79181616, -0.78606152],\n",
       "       [-0.90102782, -0.87627458, -0.85322526, -0.78606152],\n",
       "       [-0.88353213, -0.87627458, -0.71017818, -0.78606152],\n",
       "       [-0.86603645, -0.87627458, -0.5671311 , -0.78606152],\n",
       "       [-0.84854076, -0.87627458,  0.72029262, -0.70661273],\n",
       "       [-0.83104508,  1.1411948 , -0.42408402, -0.70661273],\n",
       "       [-0.81354939, -0.87627458, -0.5671311 , -0.66688834],\n",
       "       [-0.79605371,  1.1411948 ,  1.43552802, -0.66688834],\n",
       "       [-0.77855802, -0.87627458,  0.79181616, -0.66688834],\n",
       "       [-0.76106233,  1.1411948 ,  0.57724554, -0.66688834],\n",
       "       [-0.74356665, -0.87627458,  0.8633397 , -0.62716394],\n",
       "       [-0.72607096,  1.1411948 ,  2.15076343, -0.62716394],\n",
       "       [-0.70857528, -0.87627458, -0.85322526, -0.54771515],\n",
       "       [-0.69107959,  1.1411948 ,  1.00638678, -0.54771515],\n",
       "       [-0.6735839 ,  1.1411948 ,  2.22228697, -0.54771515],\n",
       "       [-0.65608822,  1.1411948 , -1.42541358, -0.54771515],\n",
       "       [-0.63859253, -0.87627458,  2.00771635, -0.50799075],\n",
       "       [-0.62109685, -0.87627458,  1.07791032, -0.50799075],\n",
       "       [-0.60360116,  1.1411948 ,  1.72162218, -0.46826636],\n",
       "       [-0.58610548,  1.1411948 , -1.49693712, -0.46826636],\n",
       "       [-0.56860979, -0.87627458,  0.29115138, -0.46826636],\n",
       "       [-0.5511141 , -0.87627458,  2.07923989, -0.46826636],\n",
       "       [-0.53361842,  1.1411948 , -1.42541358, -0.46826636],\n",
       "       [-0.51612273, -0.87627458, -0.49560756, -0.46826636],\n",
       "       [-0.49862705,  1.1411948 ,  2.22228697, -0.42854196],\n",
       "       [-0.48113136, -0.87627458,  0.57724554, -0.42854196],\n",
       "       [-0.46363567, -0.87627458,  1.50705156, -0.38881757],\n",
       "       [-0.44613999, -0.87627458,  1.50705156, -0.38881757],\n",
       "       [-0.4286443 ,  1.1411948 ,  1.43552802, -0.22991999],\n",
       "       [-0.41114862,  1.1411948 , -0.9247488 , -0.22991999],\n",
       "       [-0.39365293, -0.87627458,  0.43419846, -0.22991999],\n",
       "       [-0.37615725,  1.1411948 ,  0.07658076, -0.22991999],\n",
       "       [-0.35866156, -0.87627458, -1.13931942, -0.22991999],\n",
       "       [-0.34116587, -0.87627458,  0.72029262, -0.22991999],\n",
       "       [-0.32367019,  1.1411948 ,  1.29248094, -0.22991999],\n",
       "       [-0.3061745 ,  1.1411948 , -0.06646632, -0.22991999],\n",
       "       [-0.28867882,  1.1411948 ,  2.00771635, -0.22991999],\n",
       "       [-0.27118313, -0.87627458,  0.505722  , -0.22991999],\n",
       "       [-0.25368744, -0.87627458, -1.2823665 , -0.22991999],\n",
       "       [-0.23619176,  1.1411948 ,  0.64876908, -0.22991999],\n",
       "       [-0.21869607, -0.87627458,  1.14943386, -0.1107468 ],\n",
       "       [-0.20120039, -0.87627458, -1.21084296, -0.1107468 ],\n",
       "       [-0.1837047 , -0.87627458, -0.35256048, -0.0710224 ],\n",
       "       [-0.16620902, -0.87627458,  0.79181616, -0.0710224 ],\n",
       "       [-0.14871333, -0.87627458,  2.07923989, -0.03129801],\n",
       "       [-0.13121764,  1.1411948 , -1.49693712, -0.03129801],\n",
       "       [-0.11372196,  1.1411948 ,  0.64876908,  0.00842639],\n",
       "       [-0.09622627, -0.87627458,  0.07658076,  0.00842639],\n",
       "       [-0.07873059, -0.87627458, -0.49560756,  0.00842639],\n",
       "       [-0.0612349 ,  1.1411948 , -1.06779588,  0.00842639],\n",
       "       [-0.04373921, -0.87627458,  0.57724554,  0.00842639],\n",
       "       [-0.02624353, -0.87627458, -0.85322526,  0.00842639],\n",
       "       [-0.00874784,  1.1411948 ,  0.64876908,  0.04815078],\n",
       "       [ 0.00874784,  1.1411948 , -1.35389004,  0.04815078],\n",
       "       [ 0.02624353, -0.87627458, -1.13931942,  0.08787518],\n",
       "       [ 0.04373921, -0.87627458,  0.72029262,  0.08787518],\n",
       "       [ 0.0612349 ,  1.1411948 ,  2.00771635,  0.08787518],\n",
       "       [ 0.07873059,  1.1411948 , -0.9247488 ,  0.08787518],\n",
       "       [ 0.09622627,  1.1411948 ,  0.72029262,  0.08787518],\n",
       "       [ 0.11372196, -0.87627458, -1.2823665 ,  0.08787518],\n",
       "       [ 0.13121764, -0.87627458,  1.93619281,  0.12759957],\n",
       "       [ 0.14871333,  1.1411948 ,  1.07791032,  0.12759957],\n",
       "       [ 0.16620902,  1.1411948 ,  2.07923989,  0.12759957],\n",
       "       [ 0.1837047 ,  1.1411948 ,  1.93619281,  0.12759957],\n",
       "       [ 0.20120039,  1.1411948 ,  1.86466927,  0.12759957],\n",
       "       [ 0.21869607, -0.87627458, -1.42541358,  0.12759957],\n",
       "       [ 0.23619176, -0.87627458, -0.06646632,  0.16732397],\n",
       "       [ 0.25368744,  1.1411948 , -1.42541358,  0.16732397],\n",
       "       [ 0.27118313, -0.87627458, -1.49693712,  0.20704836],\n",
       "       [ 0.28867882, -0.87627458, -1.42541358,  0.20704836],\n",
       "       [ 0.3061745 , -0.87627458,  1.72162218,  0.20704836],\n",
       "       [ 0.32367019, -0.87627458,  0.72029262,  0.20704836],\n",
       "       [ 0.34116587, -0.87627458,  0.8633397 ,  0.28649716],\n",
       "       [ 0.35866156, -0.87627458,  0.79181616,  0.28649716],\n",
       "       [ 0.37615725,  1.1411948 , -0.85322526,  0.28649716],\n",
       "       [ 0.39365293, -0.87627458, -0.06646632,  0.28649716],\n",
       "       [ 0.41114862, -0.87627458,  0.07658076,  0.36594595],\n",
       "       [ 0.4286443 ,  1.1411948 ,  0.00505722,  0.36594595],\n",
       "       [ 0.44613999, -0.87627458, -1.13931942,  0.40567034],\n",
       "       [ 0.46363567, -0.87627458, -0.5671311 ,  0.40567034],\n",
       "       [ 0.48113136,  1.1411948 ,  0.29115138,  0.44539474],\n",
       "       [ 0.49862705,  1.1411948 ,  0.07658076,  0.44539474],\n",
       "       [ 0.51612273,  1.1411948 ,  1.43552802,  0.44539474],\n",
       "       [ 0.53361842,  1.1411948 , -0.06646632,  0.44539474],\n",
       "       [ 0.5511141 ,  1.1411948 ,  0.57724554,  0.44539474],\n",
       "       [ 0.56860979,  1.1411948 ,  0.00505722,  0.44539474],\n",
       "       [ 0.58610548, -0.87627458, -0.99627234,  0.48511913],\n",
       "       [ 0.60360116, -0.87627458, -0.5671311 ,  0.48511913],\n",
       "       [ 0.62109685,  1.1411948 , -1.35389004,  0.52484353],\n",
       "       [ 0.63859253, -0.87627458, -0.71017818,  0.52484353],\n",
       "       [ 0.65608822, -0.87627458,  0.36267492,  0.52484353],\n",
       "       [ 0.6735839 ,  1.1411948 , -0.49560756,  0.52484353],\n",
       "       [ 0.69107959,  1.1411948 , -1.42541358,  0.56456792],\n",
       "       [ 0.70857528, -0.87627458, -0.28103694,  0.56456792],\n",
       "       [ 0.72607096, -0.87627458,  1.29248094,  0.60429232],\n",
       "       [ 0.74356665,  1.1411948 , -0.49560756,  0.60429232],\n",
       "       [ 0.76106233, -0.87627458, -0.78170172,  0.64401671],\n",
       "       [ 0.77855802, -0.87627458, -0.49560756,  0.64401671],\n",
       "       [ 0.79605371,  1.1411948 , -0.99627234,  0.68374111],\n",
       "       [ 0.81354939,  1.1411948 , -0.78170172,  0.68374111],\n",
       "       [ 0.83104508,  1.1411948 ,  0.64876908,  0.68374111],\n",
       "       [ 0.84854076, -0.87627458, -0.49560756,  0.68374111],\n",
       "       [ 0.86603645, -0.87627458, -0.35256048,  0.72346551],\n",
       "       [ 0.88353213,  1.1411948 , -0.35256048,  0.72346551],\n",
       "       [ 0.90102782,  1.1411948 ,  0.29115138,  0.72346551],\n",
       "       [ 0.91852351,  1.1411948 ,  0.00505722,  0.72346551],\n",
       "       [ 0.93601919, -0.87627458,  0.36267492,  0.72346551],\n",
       "       [ 0.95351488, -0.87627458, -0.06646632,  0.72346551],\n",
       "       [ 0.97101056, -0.87627458,  0.57724554,  0.72346551],\n",
       "       [ 0.98850625, -0.87627458, -0.85322526,  0.72346551],\n",
       "       [ 1.00600194,  1.1411948 , -0.13798986,  0.72346551],\n",
       "       [ 1.02349762, -0.87627458, -0.63865464,  0.72346551],\n",
       "       [ 1.04099331,  1.1411948 , -0.35256048,  0.72346551],\n",
       "       [ 1.05848899, -0.87627458, -0.63865464,  0.72346551],\n",
       "       [ 1.07598468, -0.87627458,  1.2209574 ,  0.7631899 ],\n",
       "       [ 1.09348037, -0.87627458, -0.71017818,  0.7631899 ],\n",
       "       [ 1.11097605,  1.1411948 , -1.42541358,  0.84263869],\n",
       "       [ 1.12847174, -0.87627458, -0.5671311 ,  0.84263869],\n",
       "       [ 1.14596742,  1.1411948 ,  0.79181616,  1.00153627],\n",
       "       [ 1.16346311, -0.87627458, -0.2095134 ,  1.00153627],\n",
       "       [ 1.18095879,  1.1411948 ,  0.21962784,  1.04126067],\n",
       "       [ 1.19845448, -0.87627458, -0.42408402,  1.04126067],\n",
       "       [ 1.21595017, -0.87627458, -0.2095134 ,  1.08098506],\n",
       "       [ 1.23344585,  1.1411948 , -0.49560756,  1.08098506],\n",
       "       [ 1.25094154,  1.1411948 ,  0.07658076,  1.08098506],\n",
       "       [ 1.26843722,  1.1411948 , -0.78170172,  1.08098506],\n",
       "       [ 1.28593291,  1.1411948 , -0.2095134 ,  1.08098506],\n",
       "       [ 1.3034286 ,  1.1411948 , -0.2095134 ,  1.08098506],\n",
       "       [ 1.32092428, -0.87627458,  0.93486324,  1.12070946],\n",
       "       [ 1.33841997, -0.87627458, -0.63865464,  1.12070946],\n",
       "       [ 1.35591565,  1.1411948 ,  1.36400448,  1.12070946],\n",
       "       [ 1.37341134,  1.1411948 , -0.85322526,  1.12070946],\n",
       "       [ 1.39090702,  1.1411948 ,  1.43552802,  1.31933144],\n",
       "       [ 1.40840271,  1.1411948 , -0.28103694,  1.31933144],\n",
       "       [ 1.4258984 , -0.87627458, -0.13798986,  1.47822902],\n",
       "       [ 1.44339408, -0.87627458, -0.49560756,  1.47822902],\n",
       "       [ 1.46088977,  1.1411948 ,  0.505722  ,  1.51795342],\n",
       "       [ 1.47838545, -0.87627458, -0.71017818,  1.51795342],\n",
       "       [ 1.49588114, -0.87627458,  0.1481043 ,  1.55767781],\n",
       "       [ 1.51337683,  1.1411948 , -0.63865464,  1.55767781],\n",
       "       [ 1.53087251, -0.87627458,  1.07791032,  1.6371266 ],\n",
       "       [ 1.5483682 ,  1.1411948 , -0.78170172,  1.6371266 ],\n",
       "       [ 1.56586388, -0.87627458,  0.1481043 ,  1.71657539],\n",
       "       [ 1.58335957, -0.87627458, -0.2095134 ,  1.71657539],\n",
       "       [ 1.60085525, -0.87627458, -0.35256048,  1.71657539],\n",
       "       [ 1.61835094, -0.87627458, -0.49560756,  1.71657539],\n",
       "       [ 1.63584663,  1.1411948 , -0.42408402,  2.11381935],\n",
       "       [ 1.65334231, -0.87627458, -0.06646632,  2.11381935],\n",
       "       [ 1.670838  , -0.87627458,  0.57724554,  2.39189012],\n",
       "       [ 1.68833368, -0.87627458, -0.28103694,  2.39189012],\n",
       "       [ 1.70582937, -0.87627458,  0.43419846,  2.63023649],\n",
       "       [ 1.72332506,  1.1411948 , -0.49560756,  2.63023649]])"
      ]
     },
     "execution_count": 41,
     "metadata": {},
     "output_type": "execute_result"
    }
   ],
   "source": [
    "x"
   ]
  },
  {
   "cell_type": "code",
   "execution_count": 42,
   "metadata": {},
   "outputs": [],
   "source": [
    "new_data=data1.iloc[:,:-1]"
   ]
  },
  {
   "cell_type": "code",
   "execution_count": 43,
   "metadata": {},
   "outputs": [
    {
     "data": {
      "text/html": [
       "<div>\n",
       "<style scoped>\n",
       "    .dataframe tbody tr th:only-of-type {\n",
       "        vertical-align: middle;\n",
       "    }\n",
       "\n",
       "    .dataframe tbody tr th {\n",
       "        vertical-align: top;\n",
       "    }\n",
       "\n",
       "    .dataframe thead th {\n",
       "        text-align: right;\n",
       "    }\n",
       "</style>\n",
       "<table border=\"1\" class=\"dataframe\">\n",
       "  <thead>\n",
       "    <tr style=\"text-align: right;\">\n",
       "      <th></th>\n",
       "      <th>CustomerID,</th>\n",
       "      <th>Gender</th>\n",
       "      <th>Age</th>\n",
       "      <th>Annual_Income</th>\n",
       "    </tr>\n",
       "  </thead>\n",
       "  <tbody>\n",
       "    <tr>\n",
       "      <th>0</th>\n",
       "      <td>1</td>\n",
       "      <td>1</td>\n",
       "      <td>19</td>\n",
       "      <td>15</td>\n",
       "    </tr>\n",
       "    <tr>\n",
       "      <th>1</th>\n",
       "      <td>2</td>\n",
       "      <td>1</td>\n",
       "      <td>21</td>\n",
       "      <td>15</td>\n",
       "    </tr>\n",
       "    <tr>\n",
       "      <th>2</th>\n",
       "      <td>3</td>\n",
       "      <td>0</td>\n",
       "      <td>20</td>\n",
       "      <td>16</td>\n",
       "    </tr>\n",
       "    <tr>\n",
       "      <th>3</th>\n",
       "      <td>4</td>\n",
       "      <td>0</td>\n",
       "      <td>23</td>\n",
       "      <td>16</td>\n",
       "    </tr>\n",
       "    <tr>\n",
       "      <th>4</th>\n",
       "      <td>5</td>\n",
       "      <td>0</td>\n",
       "      <td>31</td>\n",
       "      <td>17</td>\n",
       "    </tr>\n",
       "  </tbody>\n",
       "</table>\n",
       "</div>"
      ],
      "text/plain": [
       "   CustomerID,  Gender  Age  Annual_Income\n",
       "0            1       1   19             15\n",
       "1            2       1   21             15\n",
       "2            3       0   20             16\n",
       "3            4       0   23             16\n",
       "4            5       0   31             17"
      ]
     },
     "execution_count": 43,
     "metadata": {},
     "output_type": "execute_result"
    }
   ],
   "source": [
    "new_data.head()"
   ]
  },
  {
   "cell_type": "code",
   "execution_count": 44,
   "metadata": {},
   "outputs": [
    {
     "data": {
      "text/plain": [
       "(198, 4)"
      ]
     },
     "execution_count": 44,
     "metadata": {},
     "output_type": "execute_result"
    }
   ],
   "source": [
    "new_data.shape"
   ]
  },
  {
   "cell_type": "code",
   "execution_count": 45,
   "metadata": {},
   "outputs": [],
   "source": [
    "from sklearn.cluster import KMeans"
   ]
  },
  {
   "cell_type": "code",
   "execution_count": 46,
   "metadata": {},
   "outputs": [],
   "source": [
    "wcss=[]\n",
    "for i in range(1,11):\n",
    "    kmeans=KMeans(n_clusters=i,init='k-means++',random_state=0)\n",
    "    kmeans.fit(new_data)\n",
    "    wcss.append(kmeans.inertia_)"
   ]
  },
  {
   "cell_type": "code",
   "execution_count": 47,
   "metadata": {},
   "outputs": [
    {
     "data": {
      "text/plain": [
       "[<matplotlib.lines.Line2D at 0x22d8aec9438>]"
      ]
     },
     "execution_count": 47,
     "metadata": {},
     "output_type": "execute_result"
    },
    {
     "data": {
      "image/png": "[encoded data removed]",
      "text/plain": [
       "<Figure size 432x288 with 1 Axes>"
      ]
     },
     "metadata": {
      "needs_background": "light"
     },
     "output_type": "display_data"
    }
   ],
   "source": [
    "plt.plot(range(1,11),wcss)"
   ]
  },
  {
   "cell_type": "code",
   "execution_count": 48,
   "metadata": {},
   "outputs": [
    {
     "data": {
      "text/plain": [
       "array([1, 1, 1, 1, 1, 1, 1, 1, 1, 1, 1, 1, 1, 1, 1, 1, 1, 1, 1, 1, 1, 1,\n",
       "       1, 1, 1, 1, 1, 1, 1, 1, 1, 1, 1, 1, 1, 1, 1, 1, 1, 1, 1, 1, 1, 1,\n",
       "       1, 1, 1, 1, 1, 1, 1, 1, 1, 1, 1, 1, 1, 1, 1, 1, 2, 1, 2, 2, 2, 2,\n",
       "       2, 2, 2, 2, 2, 2, 2, 2, 2, 2, 2, 2, 2, 2, 2, 2, 2, 2, 2, 2, 2, 2,\n",
       "       2, 2, 2, 2, 2, 2, 2, 2, 2, 2, 2, 2, 2, 2, 2, 2, 2, 2, 2, 2, 2, 2,\n",
       "       2, 2, 2, 2, 2, 2, 2, 2, 2, 2, 2, 2, 2, 2, 2, 2, 2, 2, 2, 2, 2, 0,\n",
       "       0, 0, 0, 0, 0, 0, 0, 0, 0, 0, 0, 0, 0, 0, 0, 0, 0, 0, 0, 0, 0, 0,\n",
       "       0, 0, 0, 0, 0, 0, 0, 0, 0, 0, 0, 0, 0, 0, 0, 0, 0, 0, 0, 0, 0, 0,\n",
       "       0, 0, 0, 0, 0, 0, 0, 0, 0, 0, 0, 0, 0, 0, 0, 0, 0, 0, 0, 0, 0, 0])"
      ]
     },
     "execution_count": 48,
     "metadata": {},
     "output_type": "execute_result"
    }
   ],
   "source": [
    "km_model=KMeans(n_clusters=3,init='k-means++',random_state=0)\n",
    "ykmeans=km_model.fit_predict(new_data)\n",
    "ykmeans"
   ]
  },
  {
   "cell_type": "code",
   "execution_count": 49,
   "metadata": {},
   "outputs": [
    {
     "data": {
      "text/html": [
       "<div>\n",
       "<style scoped>\n",
       "    .dataframe tbody tr th:only-of-type {\n",
       "        vertical-align: middle;\n",
       "    }\n",
       "\n",
       "    .dataframe tbody tr th {\n",
       "        vertical-align: top;\n",
       "    }\n",
       "\n",
       "    .dataframe thead th {\n",
       "        text-align: right;\n",
       "    }\n",
       "</style>\n",
       "<table border=\"1\" class=\"dataframe\">\n",
       "  <thead>\n",
       "    <tr style=\"text-align: right;\">\n",
       "      <th></th>\n",
       "      <th>CustomerID,</th>\n",
       "      <th>Gender</th>\n",
       "      <th>Age</th>\n",
       "      <th>Annual_Income</th>\n",
       "    </tr>\n",
       "  </thead>\n",
       "  <tbody>\n",
       "    <tr>\n",
       "      <th>0</th>\n",
       "      <td>1</td>\n",
       "      <td>1</td>\n",
       "      <td>19</td>\n",
       "      <td>15</td>\n",
       "    </tr>\n",
       "    <tr>\n",
       "      <th>1</th>\n",
       "      <td>2</td>\n",
       "      <td>1</td>\n",
       "      <td>21</td>\n",
       "      <td>15</td>\n",
       "    </tr>\n",
       "    <tr>\n",
       "      <th>2</th>\n",
       "      <td>3</td>\n",
       "      <td>0</td>\n",
       "      <td>20</td>\n",
       "      <td>16</td>\n",
       "    </tr>\n",
       "    <tr>\n",
       "      <th>3</th>\n",
       "      <td>4</td>\n",
       "      <td>0</td>\n",
       "      <td>23</td>\n",
       "      <td>16</td>\n",
       "    </tr>\n",
       "    <tr>\n",
       "      <th>4</th>\n",
       "      <td>5</td>\n",
       "      <td>0</td>\n",
       "      <td>31</td>\n",
       "      <td>17</td>\n",
       "    </tr>\n",
       "  </tbody>\n",
       "</table>\n",
       "</div>"
      ],
      "text/plain": [
       "   CustomerID,  Gender  Age  Annual_Income\n",
       "0            1       1   19             15\n",
       "1            2       1   21             15\n",
       "2            3       0   20             16\n",
       "3            4       0   23             16\n",
       "4            5       0   31             17"
      ]
     },
     "execution_count": 49,
     "metadata": {},
     "output_type": "execute_result"
    }
   ],
   "source": [
    "new_data.head()"
   ]
  },
  {
   "cell_type": "code",
   "execution_count": 50,
   "metadata": {},
   "outputs": [],
   "source": [
    "new_data['target']=pd.Series(ykmeans)"
   ]
  },
  {
   "cell_type": "code",
   "execution_count": 51,
   "metadata": {},
   "outputs": [
    {
     "data": {
      "text/html": [
       "<div>\n",
       "<style scoped>\n",
       "    .dataframe tbody tr th:only-of-type {\n",
       "        vertical-align: middle;\n",
       "    }\n",
       "\n",
       "    .dataframe tbody tr th {\n",
       "        vertical-align: top;\n",
       "    }\n",
       "\n",
       "    .dataframe thead th {\n",
       "        text-align: right;\n",
       "    }\n",
       "</style>\n",
       "<table border=\"1\" class=\"dataframe\">\n",
       "  <thead>\n",
       "    <tr style=\"text-align: right;\">\n",
       "      <th></th>\n",
       "      <th>CustomerID,</th>\n",
       "      <th>Gender</th>\n",
       "      <th>Age</th>\n",
       "      <th>Annual_Income</th>\n",
       "      <th>target</th>\n",
       "    </tr>\n",
       "  </thead>\n",
       "  <tbody>\n",
       "    <tr>\n",
       "      <th>0</th>\n",
       "      <td>1</td>\n",
       "      <td>1</td>\n",
       "      <td>19</td>\n",
       "      <td>15</td>\n",
       "      <td>1</td>\n",
       "    </tr>\n",
       "    <tr>\n",
       "      <th>1</th>\n",
       "      <td>2</td>\n",
       "      <td>1</td>\n",
       "      <td>21</td>\n",
       "      <td>15</td>\n",
       "      <td>1</td>\n",
       "    </tr>\n",
       "    <tr>\n",
       "      <th>2</th>\n",
       "      <td>3</td>\n",
       "      <td>0</td>\n",
       "      <td>20</td>\n",
       "      <td>16</td>\n",
       "      <td>1</td>\n",
       "    </tr>\n",
       "    <tr>\n",
       "      <th>3</th>\n",
       "      <td>4</td>\n",
       "      <td>0</td>\n",
       "      <td>23</td>\n",
       "      <td>16</td>\n",
       "      <td>1</td>\n",
       "    </tr>\n",
       "    <tr>\n",
       "      <th>4</th>\n",
       "      <td>5</td>\n",
       "      <td>0</td>\n",
       "      <td>31</td>\n",
       "      <td>17</td>\n",
       "      <td>1</td>\n",
       "    </tr>\n",
       "  </tbody>\n",
       "</table>\n",
       "</div>"
      ],
      "text/plain": [
       "   CustomerID,  Gender  Age  Annual_Income  target\n",
       "0            1       1   19             15       1\n",
       "1            2       1   21             15       1\n",
       "2            3       0   20             16       1\n",
       "3            4       0   23             16       1\n",
       "4            5       0   31             17       1"
      ]
     },
     "execution_count": 51,
     "metadata": {},
     "output_type": "execute_result"
    }
   ],
   "source": [
    "new_data.head()"
   ]
  },
  {
   "cell_type": "code",
   "execution_count": 52,
   "metadata": {},
   "outputs": [
    {
     "name": "stdout",
     "output_type": "stream",
     "text": [
      "<class 'pandas.core.frame.DataFrame'>\n",
      "Int64Index: 198 entries, 0 to 197\n",
      "Data columns (total 5 columns):\n",
      "CustomerID,      198 non-null int64\n",
      "Gender           198 non-null int32\n",
      "Age              198 non-null int64\n",
      "Annual_Income    198 non-null int64\n",
      "target           198 non-null int32\n",
      "dtypes: int32(2), int64(3)\n",
      "memory usage: 7.7 KB\n"
     ]
    }
   ],
   "source": [
    "new_data.info()"
   ]
  },
  {
   "cell_type": "code",
   "execution_count": 53,
   "metadata": {},
   "outputs": [
    {
     "data": {
      "text/plain": [
       "array([1, 2, 0], dtype=int64)"
      ]
     },
     "execution_count": 53,
     "metadata": {},
     "output_type": "execute_result"
    }
   ],
   "source": [
    "new_data['target'].unique()"
   ]
  },
  {
   "cell_type": "code",
   "execution_count": 54,
   "metadata": {},
   "outputs": [
    {
     "data": {
      "text/plain": [
       "2    70\n",
       "0    67\n",
       "1    61\n",
       "Name: target, dtype: int64"
      ]
     },
     "execution_count": 54,
     "metadata": {},
     "output_type": "execute_result"
    }
   ],
   "source": [
    "new_data.target.value_counts()"
   ]
  },
  {
   "cell_type": "code",
   "execution_count": 55,
   "metadata": {},
   "outputs": [],
   "source": [
    "x=data1.drop('Spending_Score',axis=1)"
   ]
  },
  {
   "cell_type": "code",
   "execution_count": 56,
   "metadata": {},
   "outputs": [],
   "source": [
    "y=data1['Spending_Score']"
   ]
  },
  {
   "cell_type": "code",
   "execution_count": 57,
   "metadata": {},
   "outputs": [],
   "source": [
    "from sklearn.preprocessing import StandardScaler"
   ]
  },
  {
   "cell_type": "code",
   "execution_count": 58,
   "metadata": {},
   "outputs": [],
   "source": [
    "sc=StandardScaler()"
   ]
  },
  {
   "cell_type": "code",
   "execution_count": 59,
   "metadata": {},
   "outputs": [],
   "source": [
    "x=sc.fit_transform(x)"
   ]
  },
  {
   "cell_type": "code",
   "execution_count": 60,
   "metadata": {},
   "outputs": [
    {
     "data": {
      "text/plain": [
       "array([[-1.72332506,  1.1411948 , -1.42541358, -1.77917141],\n",
       "       [-1.70582937,  1.1411948 , -1.2823665 , -1.77917141],\n",
       "       [-1.68833368, -0.87627458, -1.35389004, -1.73944701],\n",
       "       [-1.670838  , -0.87627458, -1.13931942, -1.73944701],\n",
       "       [-1.65334231, -0.87627458, -0.5671311 , -1.69972262],\n",
       "       [-1.63584663, -0.87627458, -1.21084296, -1.69972262],\n",
       "       [-1.61835094, -0.87627458, -0.28103694, -1.65999822],\n",
       "       [-1.60085525, -0.87627458, -1.13931942, -1.65999822],\n",
       "       [-1.58335957,  1.1411948 ,  1.79314572, -1.62027383],\n",
       "       [-1.56586388, -0.87627458, -0.63865464, -1.62027383],\n",
       "       [-1.5483682 ,  1.1411948 ,  2.00771635, -1.62027383],\n",
       "       [-1.53087251, -0.87627458, -0.28103694, -1.62027383],\n",
       "       [-1.51337683, -0.87627458,  1.36400448, -1.58054943],\n",
       "       [-1.49588114, -0.87627458, -1.06779588, -1.58054943],\n",
       "       [-1.47838545,  1.1411948 , -0.13798986, -1.58054943],\n",
       "       [-1.46088977,  1.1411948 , -1.21084296, -1.58054943],\n",
       "       [-1.44339408, -0.87627458, -0.28103694, -1.54082504],\n",
       "       [-1.4258984 ,  1.1411948 , -1.35389004, -1.54082504],\n",
       "       [-1.40840271,  1.1411948 ,  0.93486324, -1.46137625],\n",
       "       [-1.39090702, -0.87627458, -0.28103694, -1.46137625],\n",
       "       [-1.37341134,  1.1411948 , -0.28103694, -1.42165185],\n",
       "       [-1.35591565,  1.1411948 , -0.99627234, -1.42165185],\n",
       "       [-1.33841997, -0.87627458,  0.505722  , -1.38192745],\n",
       "       [-1.32092428,  1.1411948 , -0.5671311 , -1.38192745],\n",
       "       [-1.3034286 , -0.87627458,  1.07791032, -1.26275427],\n",
       "       [-1.28593291,  1.1411948 , -0.71017818, -1.26275427],\n",
       "       [-1.26843722, -0.87627458,  0.43419846, -1.26275427],\n",
       "       [-1.25094154,  1.1411948 , -0.28103694, -1.26275427],\n",
       "       [-1.23344585, -0.87627458,  0.07658076, -1.22302987],\n",
       "       [-1.21595017, -0.87627458, -1.13931942, -1.22302987],\n",
       "       [-1.19845448,  1.1411948 ,  1.50705156, -1.18330548],\n",
       "       [-1.18095879, -0.87627458, -1.2823665 , -1.18330548],\n",
       "       [-1.16346311,  1.1411948 ,  1.00638678, -1.06413229],\n",
       "       [-1.14596742,  1.1411948 , -1.49693712, -1.06413229],\n",
       "       [-1.12847174, -0.87627458,  0.72029262, -1.06413229],\n",
       "       [-1.11097605, -0.87627458, -1.2823665 , -1.06413229],\n",
       "       [-1.09348037, -0.87627458,  0.21962784, -1.0244079 ],\n",
       "       [-1.07598468, -0.87627458, -0.63865464, -1.0244079 ],\n",
       "       [-1.05848899, -0.87627458, -0.2095134 , -0.90523471],\n",
       "       [-1.04099331, -0.87627458, -1.35389004, -0.90523471],\n",
       "       [-1.02349762, -0.87627458,  1.86466927, -0.86551031],\n",
       "       [-1.00600194,  1.1411948 , -1.06779588, -0.86551031],\n",
       "       [-0.98850625,  1.1411948 ,  0.64876908, -0.82578592],\n",
       "       [-0.97101056, -0.87627458, -0.5671311 , -0.82578592],\n",
       "       [-0.95351488, -0.87627458,  0.72029262, -0.82578592],\n",
       "       [-0.93601919, -0.87627458, -1.06779588, -0.82578592],\n",
       "       [-0.91852351, -0.87627458,  0.79181616, -0.78606152],\n",
       "       [-0.90102782, -0.87627458, -0.85322526, -0.78606152],\n",
       "       [-0.88353213, -0.87627458, -0.71017818, -0.78606152],\n",
       "       [-0.86603645, -0.87627458, -0.5671311 , -0.78606152],\n",
       "       [-0.84854076, -0.87627458,  0.72029262, -0.70661273],\n",
       "       [-0.83104508,  1.1411948 , -0.42408402, -0.70661273],\n",
       "       [-0.81354939, -0.87627458, -0.5671311 , -0.66688834],\n",
       "       [-0.79605371,  1.1411948 ,  1.43552802, -0.66688834],\n",
       "       [-0.77855802, -0.87627458,  0.79181616, -0.66688834],\n",
       "       [-0.76106233,  1.1411948 ,  0.57724554, -0.66688834],\n",
       "       [-0.74356665, -0.87627458,  0.8633397 , -0.62716394],\n",
       "       [-0.72607096,  1.1411948 ,  2.15076343, -0.62716394],\n",
       "       [-0.70857528, -0.87627458, -0.85322526, -0.54771515],\n",
       "       [-0.69107959,  1.1411948 ,  1.00638678, -0.54771515],\n",
       "       [-0.6735839 ,  1.1411948 ,  2.22228697, -0.54771515],\n",
       "       [-0.65608822,  1.1411948 , -1.42541358, -0.54771515],\n",
       "       [-0.63859253, -0.87627458,  2.00771635, -0.50799075],\n",
       "       [-0.62109685, -0.87627458,  1.07791032, -0.50799075],\n",
       "       [-0.60360116,  1.1411948 ,  1.72162218, -0.46826636],\n",
       "       [-0.58610548,  1.1411948 , -1.49693712, -0.46826636],\n",
       "       [-0.56860979, -0.87627458,  0.29115138, -0.46826636],\n",
       "       [-0.5511141 , -0.87627458,  2.07923989, -0.46826636],\n",
       "       [-0.53361842,  1.1411948 , -1.42541358, -0.46826636],\n",
       "       [-0.51612273, -0.87627458, -0.49560756, -0.46826636],\n",
       "       [-0.49862705,  1.1411948 ,  2.22228697, -0.42854196],\n",
       "       [-0.48113136, -0.87627458,  0.57724554, -0.42854196],\n",
       "       [-0.46363567, -0.87627458,  1.50705156, -0.38881757],\n",
       "       [-0.44613999, -0.87627458,  1.50705156, -0.38881757],\n",
       "       [-0.4286443 ,  1.1411948 ,  1.43552802, -0.22991999],\n",
       "       [-0.41114862,  1.1411948 , -0.9247488 , -0.22991999],\n",
       "       [-0.39365293, -0.87627458,  0.43419846, -0.22991999],\n",
       "       [-0.37615725,  1.1411948 ,  0.07658076, -0.22991999],\n",
       "       [-0.35866156, -0.87627458, -1.13931942, -0.22991999],\n",
       "       [-0.34116587, -0.87627458,  0.72029262, -0.22991999],\n",
       "       [-0.32367019,  1.1411948 ,  1.29248094, -0.22991999],\n",
       "       [-0.3061745 ,  1.1411948 , -0.06646632, -0.22991999],\n",
       "       [-0.28867882,  1.1411948 ,  2.00771635, -0.22991999],\n",
       "       [-0.27118313, -0.87627458,  0.505722  , -0.22991999],\n",
       "       [-0.25368744, -0.87627458, -1.2823665 , -0.22991999],\n",
       "       [-0.23619176,  1.1411948 ,  0.64876908, -0.22991999],\n",
       "       [-0.21869607, -0.87627458,  1.14943386, -0.1107468 ],\n",
       "       [-0.20120039, -0.87627458, -1.21084296, -0.1107468 ],\n",
       "       [-0.1837047 , -0.87627458, -0.35256048, -0.0710224 ],\n",
       "       [-0.16620902, -0.87627458,  0.79181616, -0.0710224 ],\n",
       "       [-0.14871333, -0.87627458,  2.07923989, -0.03129801],\n",
       "       [-0.13121764,  1.1411948 , -1.49693712, -0.03129801],\n",
       "       [-0.11372196,  1.1411948 ,  0.64876908,  0.00842639],\n",
       "       [-0.09622627, -0.87627458,  0.07658076,  0.00842639],\n",
       "       [-0.07873059, -0.87627458, -0.49560756,  0.00842639],\n",
       "       [-0.0612349 ,  1.1411948 , -1.06779588,  0.00842639],\n",
       "       [-0.04373921, -0.87627458,  0.57724554,  0.00842639],\n",
       "       [-0.02624353, -0.87627458, -0.85322526,  0.00842639],\n",
       "       [-0.00874784,  1.1411948 ,  0.64876908,  0.04815078],\n",
       "       [ 0.00874784,  1.1411948 , -1.35389004,  0.04815078],\n",
       "       [ 0.02624353, -0.87627458, -1.13931942,  0.08787518],\n",
       "       [ 0.04373921, -0.87627458,  0.72029262,  0.08787518],\n",
       "       [ 0.0612349 ,  1.1411948 ,  2.00771635,  0.08787518],\n",
       "       [ 0.07873059,  1.1411948 , -0.9247488 ,  0.08787518],\n",
       "       [ 0.09622627,  1.1411948 ,  0.72029262,  0.08787518],\n",
       "       [ 0.11372196, -0.87627458, -1.2823665 ,  0.08787518],\n",
       "       [ 0.13121764, -0.87627458,  1.93619281,  0.12759957],\n",
       "       [ 0.14871333,  1.1411948 ,  1.07791032,  0.12759957],\n",
       "       [ 0.16620902,  1.1411948 ,  2.07923989,  0.12759957],\n",
       "       [ 0.1837047 ,  1.1411948 ,  1.93619281,  0.12759957],\n",
       "       [ 0.20120039,  1.1411948 ,  1.86466927,  0.12759957],\n",
       "       [ 0.21869607, -0.87627458, -1.42541358,  0.12759957],\n",
       "       [ 0.23619176, -0.87627458, -0.06646632,  0.16732397],\n",
       "       [ 0.25368744,  1.1411948 , -1.42541358,  0.16732397],\n",
       "       [ 0.27118313, -0.87627458, -1.49693712,  0.20704836],\n",
       "       [ 0.28867882, -0.87627458, -1.42541358,  0.20704836],\n",
       "       [ 0.3061745 , -0.87627458,  1.72162218,  0.20704836],\n",
       "       [ 0.32367019, -0.87627458,  0.72029262,  0.20704836],\n",
       "       [ 0.34116587, -0.87627458,  0.8633397 ,  0.28649716],\n",
       "       [ 0.35866156, -0.87627458,  0.79181616,  0.28649716],\n",
       "       [ 0.37615725,  1.1411948 , -0.85322526,  0.28649716],\n",
       "       [ 0.39365293, -0.87627458, -0.06646632,  0.28649716],\n",
       "       [ 0.41114862, -0.87627458,  0.07658076,  0.36594595],\n",
       "       [ 0.4286443 ,  1.1411948 ,  0.00505722,  0.36594595],\n",
       "       [ 0.44613999, -0.87627458, -1.13931942,  0.40567034],\n",
       "       [ 0.46363567, -0.87627458, -0.5671311 ,  0.40567034],\n",
       "       [ 0.48113136,  1.1411948 ,  0.29115138,  0.44539474],\n",
       "       [ 0.49862705,  1.1411948 ,  0.07658076,  0.44539474],\n",
       "       [ 0.51612273,  1.1411948 ,  1.43552802,  0.44539474],\n",
       "       [ 0.53361842,  1.1411948 , -0.06646632,  0.44539474],\n",
       "       [ 0.5511141 ,  1.1411948 ,  0.57724554,  0.44539474],\n",
       "       [ 0.56860979,  1.1411948 ,  0.00505722,  0.44539474],\n",
       "       [ 0.58610548, -0.87627458, -0.99627234,  0.48511913],\n",
       "       [ 0.60360116, -0.87627458, -0.5671311 ,  0.48511913],\n",
       "       [ 0.62109685,  1.1411948 , -1.35389004,  0.52484353],\n",
       "       [ 0.63859253, -0.87627458, -0.71017818,  0.52484353],\n",
       "       [ 0.65608822, -0.87627458,  0.36267492,  0.52484353],\n",
       "       [ 0.6735839 ,  1.1411948 , -0.49560756,  0.52484353],\n",
       "       [ 0.69107959,  1.1411948 , -1.42541358,  0.56456792],\n",
       "       [ 0.70857528, -0.87627458, -0.28103694,  0.56456792],\n",
       "       [ 0.72607096, -0.87627458,  1.29248094,  0.60429232],\n",
       "       [ 0.74356665,  1.1411948 , -0.49560756,  0.60429232],\n",
       "       [ 0.76106233, -0.87627458, -0.78170172,  0.64401671],\n",
       "       [ 0.77855802, -0.87627458, -0.49560756,  0.64401671],\n",
       "       [ 0.79605371,  1.1411948 , -0.99627234,  0.68374111],\n",
       "       [ 0.81354939,  1.1411948 , -0.78170172,  0.68374111],\n",
       "       [ 0.83104508,  1.1411948 ,  0.64876908,  0.68374111],\n",
       "       [ 0.84854076, -0.87627458, -0.49560756,  0.68374111],\n",
       "       [ 0.86603645, -0.87627458, -0.35256048,  0.72346551],\n",
       "       [ 0.88353213,  1.1411948 , -0.35256048,  0.72346551],\n",
       "       [ 0.90102782,  1.1411948 ,  0.29115138,  0.72346551],\n",
       "       [ 0.91852351,  1.1411948 ,  0.00505722,  0.72346551],\n",
       "       [ 0.93601919, -0.87627458,  0.36267492,  0.72346551],\n",
       "       [ 0.95351488, -0.87627458, -0.06646632,  0.72346551],\n",
       "       [ 0.97101056, -0.87627458,  0.57724554,  0.72346551],\n",
       "       [ 0.98850625, -0.87627458, -0.85322526,  0.72346551],\n",
       "       [ 1.00600194,  1.1411948 , -0.13798986,  0.72346551],\n",
       "       [ 1.02349762, -0.87627458, -0.63865464,  0.72346551],\n",
       "       [ 1.04099331,  1.1411948 , -0.35256048,  0.72346551],\n",
       "       [ 1.05848899, -0.87627458, -0.63865464,  0.72346551],\n",
       "       [ 1.07598468, -0.87627458,  1.2209574 ,  0.7631899 ],\n",
       "       [ 1.09348037, -0.87627458, -0.71017818,  0.7631899 ],\n",
       "       [ 1.11097605,  1.1411948 , -1.42541358,  0.84263869],\n",
       "       [ 1.12847174, -0.87627458, -0.5671311 ,  0.84263869],\n",
       "       [ 1.14596742,  1.1411948 ,  0.79181616,  1.00153627],\n",
       "       [ 1.16346311, -0.87627458, -0.2095134 ,  1.00153627],\n",
       "       [ 1.18095879,  1.1411948 ,  0.21962784,  1.04126067],\n",
       "       [ 1.19845448, -0.87627458, -0.42408402,  1.04126067],\n",
       "       [ 1.21595017, -0.87627458, -0.2095134 ,  1.08098506],\n",
       "       [ 1.23344585,  1.1411948 , -0.49560756,  1.08098506],\n",
       "       [ 1.25094154,  1.1411948 ,  0.07658076,  1.08098506],\n",
       "       [ 1.26843722,  1.1411948 , -0.78170172,  1.08098506],\n",
       "       [ 1.28593291,  1.1411948 , -0.2095134 ,  1.08098506],\n",
       "       [ 1.3034286 ,  1.1411948 , -0.2095134 ,  1.08098506],\n",
       "       [ 1.32092428, -0.87627458,  0.93486324,  1.12070946],\n",
       "       [ 1.33841997, -0.87627458, -0.63865464,  1.12070946],\n",
       "       [ 1.35591565,  1.1411948 ,  1.36400448,  1.12070946],\n",
       "       [ 1.37341134,  1.1411948 , -0.85322526,  1.12070946],\n",
       "       [ 1.39090702,  1.1411948 ,  1.43552802,  1.31933144],\n",
       "       [ 1.40840271,  1.1411948 , -0.28103694,  1.31933144],\n",
       "       [ 1.4258984 , -0.87627458, -0.13798986,  1.47822902],\n",
       "       [ 1.44339408, -0.87627458, -0.49560756,  1.47822902],\n",
       "       [ 1.46088977,  1.1411948 ,  0.505722  ,  1.51795342],\n",
       "       [ 1.47838545, -0.87627458, -0.71017818,  1.51795342],\n",
       "       [ 1.49588114, -0.87627458,  0.1481043 ,  1.55767781],\n",
       "       [ 1.51337683,  1.1411948 , -0.63865464,  1.55767781],\n",
       "       [ 1.53087251, -0.87627458,  1.07791032,  1.6371266 ],\n",
       "       [ 1.5483682 ,  1.1411948 , -0.78170172,  1.6371266 ],\n",
       "       [ 1.56586388, -0.87627458,  0.1481043 ,  1.71657539],\n",
       "       [ 1.58335957, -0.87627458, -0.2095134 ,  1.71657539],\n",
       "       [ 1.60085525, -0.87627458, -0.35256048,  1.71657539],\n",
       "       [ 1.61835094, -0.87627458, -0.49560756,  1.71657539],\n",
       "       [ 1.63584663,  1.1411948 , -0.42408402,  2.11381935],\n",
       "       [ 1.65334231, -0.87627458, -0.06646632,  2.11381935],\n",
       "       [ 1.670838  , -0.87627458,  0.57724554,  2.39189012],\n",
       "       [ 1.68833368, -0.87627458, -0.28103694,  2.39189012],\n",
       "       [ 1.70582937, -0.87627458,  0.43419846,  2.63023649],\n",
       "       [ 1.72332506,  1.1411948 , -0.49560756,  2.63023649]])"
      ]
     },
     "execution_count": 60,
     "metadata": {},
     "output_type": "execute_result"
    }
   ],
   "source": [
    "x"
   ]
  },
  {
   "cell_type": "code",
   "execution_count": 61,
   "metadata": {},
   "outputs": [
    {
     "data": {
      "text/plain": [
       "0      39\n",
       "1      81\n",
       "2       6\n",
       "3      77\n",
       "4      40\n",
       "5      76\n",
       "6       6\n",
       "7      94\n",
       "8       3\n",
       "9      72\n",
       "10     14\n",
       "11     99\n",
       "12     15\n",
       "13     77\n",
       "14     13\n",
       "15     79\n",
       "16     35\n",
       "17     66\n",
       "18     29\n",
       "19     98\n",
       "20     35\n",
       "21     73\n",
       "22      5\n",
       "23     73\n",
       "24     14\n",
       "25     82\n",
       "26     32\n",
       "27     61\n",
       "28     31\n",
       "29     87\n",
       "       ..\n",
       "168    27\n",
       "169    63\n",
       "170    13\n",
       "171    75\n",
       "172    10\n",
       "173    92\n",
       "174    13\n",
       "175    86\n",
       "176    15\n",
       "177    69\n",
       "178    14\n",
       "179    90\n",
       "180    32\n",
       "181    86\n",
       "182    15\n",
       "183    88\n",
       "184    39\n",
       "185    97\n",
       "186    24\n",
       "187    68\n",
       "188    17\n",
       "189    85\n",
       "190    23\n",
       "191    69\n",
       "192     8\n",
       "193    91\n",
       "194    16\n",
       "195    79\n",
       "196    28\n",
       "197    74\n",
       "Name: Spending_Score, Length: 198, dtype: int64"
      ]
     },
     "execution_count": 61,
     "metadata": {},
     "output_type": "execute_result"
    }
   ],
   "source": [
    "y"
   ]
  },
  {
   "cell_type": "code",
   "execution_count": 62,
   "metadata": {},
   "outputs": [],
   "source": [
    "from sklearn.model_selection import train_test_split"
   ]
  },
  {
   "cell_type": "code",
   "execution_count": 63,
   "metadata": {},
   "outputs": [],
   "source": [
    "x_train,x_test,y_train,y_test=train_test_split(x,y,test_size=0.2,random_state=0)"
   ]
  },
  {
   "cell_type": "code",
   "execution_count": 64,
   "metadata": {},
   "outputs": [],
   "source": [
    "from sklearn.neighbors import KNeighborsClassifier\n",
    "knn=KNeighborsClassifier()"
   ]
  },
  {
   "cell_type": "code",
   "execution_count": 65,
   "metadata": {},
   "outputs": [
    {
     "data": {
      "text/plain": [
       "KNeighborsClassifier(algorithm='auto', leaf_size=30, metric='minkowski',\n",
       "                     metric_params=None, n_jobs=None, n_neighbors=5, p=2,\n",
       "                     weights='uniform')"
      ]
     },
     "execution_count": 65,
     "metadata": {},
     "output_type": "execute_result"
    }
   ],
   "source": [
    "knn.fit(x_train,y_train)"
   ]
  },
  {
   "cell_type": "code",
   "execution_count": 66,
   "metadata": {},
   "outputs": [],
   "source": [
    "pred=knn.predict(x_test)"
   ]
  },
  {
   "cell_type": "code",
   "execution_count": 67,
   "metadata": {},
   "outputs": [
    {
     "data": {
      "text/plain": [
       "array([ 4, 22, 45, 73, 42, 42, 77,  5, 14,  1, 41, 55, 73, 42, 41, 77, 55,\n",
       "        5, 42,  1, 11, 22, 42, 40,  5, 29, 63, 23, 46, 14,  6, 34, 16, 42,\n",
       "       14, 17, 75,  6, 42, 75], dtype=int64)"
      ]
     },
     "execution_count": 67,
     "metadata": {},
     "output_type": "execute_result"
    }
   ],
   "source": [
    "pred"
   ]
  },
  {
   "cell_type": "code",
   "execution_count": 68,
   "metadata": {},
   "outputs": [
    {
     "data": {
      "text/plain": [
       "18     29\n",
       "168    27\n",
       "63     59\n",
       "175    86\n",
       "71     42\n",
       "86     58\n",
       "5      76\n",
       "118    43\n",
       "12     15\n",
       "150    17\n",
       "60     56\n",
       "75     54\n",
       "163    93\n",
       "96     47\n",
       "113    46\n",
       "7      94\n",
       "33     92\n",
       "134     5\n",
       "37     73\n",
       "166    20\n",
       "109    48\n",
       "143    87\n",
       "45     65\n",
       "157    78\n",
       "138    10\n",
       "111    54\n",
       "177    69\n",
       "183    88\n",
       "92     49\n",
       "44     28\n",
       "16     35\n",
       "135    88\n",
       "136     7\n",
       "97     50\n",
       "22      5\n",
       "194    16\n",
       "126    35\n",
       "4      40\n",
       "66     50\n",
       "123    91\n",
       "Name: Spending_Score, dtype: int64"
      ]
     },
     "execution_count": 68,
     "metadata": {},
     "output_type": "execute_result"
    }
   ],
   "source": [
    "y_test"
   ]
  },
  {
   "cell_type": "code",
   "execution_count": 69,
   "metadata": {},
   "outputs": [],
   "source": [
    "from sklearn.metrics import accuracy_score,classification_report,confusion_matrix"
   ]
  },
  {
   "cell_type": "code",
   "execution_count": 70,
   "metadata": {},
   "outputs": [
    {
     "data": {
      "text/plain": [
       "0.05"
      ]
     },
     "execution_count": 70,
     "metadata": {},
     "output_type": "execute_result"
    }
   ],
   "source": [
    "accuracy_score(y_test,pred)"
   ]
  },
  {
   "cell_type": "code",
   "execution_count": 71,
   "metadata": {},
   "outputs": [],
   "source": [
    "pred1=knn.predict(x_test)"
   ]
  },
  {
   "cell_type": "code",
   "execution_count": 72,
   "metadata": {},
   "outputs": [
    {
     "data": {
      "text/plain": [
       "0.05"
      ]
     },
     "execution_count": 72,
     "metadata": {},
     "output_type": "execute_result"
    }
   ],
   "source": [
    "accuracy_score(y_test,pred1)"
   ]
  },
  {
   "cell_type": "code",
   "execution_count": 73,
   "metadata": {},
   "outputs": [
    {
     "data": {
      "text/plain": [
       "array([[0, 0, 0, ..., 0, 0, 0],\n",
       "       [0, 0, 0, ..., 0, 0, 0],\n",
       "       [0, 0, 1, ..., 0, 0, 0],\n",
       "       ...,\n",
       "       [0, 0, 0, ..., 0, 0, 0],\n",
       "       [0, 0, 0, ..., 0, 0, 0],\n",
       "       [0, 0, 0, ..., 0, 0, 0]], dtype=int64)"
      ]
     },
     "execution_count": 73,
     "metadata": {},
     "output_type": "execute_result"
    }
   ],
   "source": [
    "confusion_matrix(y_test,pred)"
   ]
  },
  {
   "cell_type": "code",
   "execution_count": 74,
   "metadata": {},
   "outputs": [
    {
     "name": "stdout",
     "output_type": "stream",
     "text": [
      "              precision    recall  f1-score   support\n",
      "\n",
      "           1       0.00      0.00      0.00         0\n",
      "           4       0.00      0.00      0.00         0\n",
      "           5       0.33      0.50      0.40         2\n",
      "           6       0.00      0.00      0.00         0\n",
      "           7       0.00      0.00      0.00         1\n",
      "          10       0.00      0.00      0.00         1\n",
      "          11       0.00      0.00      0.00         0\n",
      "          14       0.00      0.00      0.00         0\n",
      "          15       0.00      0.00      0.00         1\n",
      "          16       0.00      0.00      0.00         1\n",
      "          17       0.00      0.00      0.00         1\n",
      "          20       0.00      0.00      0.00         1\n",
      "          22       0.00      0.00      0.00         0\n",
      "          23       0.00      0.00      0.00         0\n",
      "          27       0.00      0.00      0.00         1\n",
      "          28       0.00      0.00      0.00         1\n",
      "          29       0.00      0.00      0.00         1\n",
      "          34       0.00      0.00      0.00         0\n",
      "          35       0.00      0.00      0.00         2\n",
      "          40       0.00      0.00      0.00         1\n",
      "          41       0.00      0.00      0.00         0\n",
      "          42       0.14      1.00      0.25         1\n",
      "          43       0.00      0.00      0.00         1\n",
      "          45       0.00      0.00      0.00         0\n",
      "          46       0.00      0.00      0.00         1\n",
      "          47       0.00      0.00      0.00         1\n",
      "          48       0.00      0.00      0.00         1\n",
      "          49       0.00      0.00      0.00         1\n",
      "          50       0.00      0.00      0.00         2\n",
      "          54       0.00      0.00      0.00         2\n",
      "          55       0.00      0.00      0.00         0\n",
      "          56       0.00      0.00      0.00         1\n",
      "          58       0.00      0.00      0.00         1\n",
      "          59       0.00      0.00      0.00         1\n",
      "          63       0.00      0.00      0.00         0\n",
      "          65       0.00      0.00      0.00         1\n",
      "          69       0.00      0.00      0.00         1\n",
      "          73       0.00      0.00      0.00         1\n",
      "          75       0.00      0.00      0.00         0\n",
      "          76       0.00      0.00      0.00         1\n",
      "          77       0.00      0.00      0.00         0\n",
      "          78       0.00      0.00      0.00         1\n",
      "          86       0.00      0.00      0.00         1\n",
      "          87       0.00      0.00      0.00         1\n",
      "          88       0.00      0.00      0.00         2\n",
      "          91       0.00      0.00      0.00         1\n",
      "          92       0.00      0.00      0.00         1\n",
      "          93       0.00      0.00      0.00         1\n",
      "          94       0.00      0.00      0.00         1\n",
      "\n",
      "    accuracy                           0.05        40\n",
      "   macro avg       0.01      0.03      0.01        40\n",
      "weighted avg       0.02      0.05      0.03        40\n",
      "\n"
     ]
    },
    {
     "name": "stderr",
     "output_type": "stream",
     "text": [
      "C:\\Users\\91859\\Anaconda3\\lib\\site-packages\\sklearn\\metrics\\classification.py:1437: UndefinedMetricWarning: Precision and F-score are ill-defined and being set to 0.0 in labels with no predicted samples.\n",
      "  'precision', 'predicted', average, warn_for)\n",
      "C:\\Users\\91859\\Anaconda3\\lib\\site-packages\\sklearn\\metrics\\classification.py:1439: UndefinedMetricWarning: Recall and F-score are ill-defined and being set to 0.0 in labels with no true samples.\n",
      "  'recall', 'true', average, warn_for)\n"
     ]
    }
   ],
   "source": [
    "print(classification_report(y_test,pred))"
   ]
  },
  {
   "cell_type": "code",
   "execution_count": null,
   "metadata": {},
   "outputs": [],
   "source": []
  }
 ],
 "metadata": {
  "kernelspec": {
   "display_name": "Python 3",
   "language": "python",
   "name": "python3"
  },
  "language_info": {
   "codemirror_mode": {
    "name": "ipython",
    "version": 3
   },
   "file_extension": ".py",
   "mimetype": "text/x-python",
   "name": "python",
   "nbconvert_exporter": "python",
   "pygments_lexer": "ipython3",
   "version": "3.7.3"
  }
 },
 "nbformat": 4,
 "nbformat_minor": 5
}
